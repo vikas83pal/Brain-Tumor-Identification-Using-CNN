{
 "cells": [
  {
   "cell_type": "markdown",
   "metadata": {
    "papermill": {
     "duration": 0.017047,
     "end_time": "2021-01-13T19:04:02.236885",
     "exception": false,
     "start_time": "2021-01-13T19:04:02.219838",
     "status": "completed"
    },
    "tags": []
   },
   "source": [
    "# Import Statements"
   ]
  },
  {
   "cell_type": "code",
   "execution_count": 1,
   "metadata": {
    "_cell_guid": "79c7e3d0-c299-4dcb-8224-4455121ee9b0",
    "_uuid": "d629ff2d2480ee46fbb7e2d37f6b5fab8052498a",
    "execution": {
     "iopub.execute_input": "2021-01-13T19:04:02.274589Z",
     "iopub.status.busy": "2021-01-13T19:04:02.273851Z",
     "iopub.status.idle": "2021-01-13T19:04:10.359394Z",
     "shell.execute_reply": "2021-01-13T19:04:10.358181Z"
    },
    "papermill": {
     "duration": 8.107497,
     "end_time": "2021-01-13T19:04:10.359532",
     "exception": false,
     "start_time": "2021-01-13T19:04:02.252035",
     "status": "completed"
    },
    "tags": []
   },
   "outputs": [],
   "source": [
    "import os\n",
    "import keras \n",
    "from keras.models import Sequential\n",
    "from keras.layers import Conv2D, MaxPooling2D, Flatten, Dense, Dropout, BatchNormalization\n",
    "from PIL import Image\n",
    "import numpy as np\n",
    "import pandas as pd\n",
    "import matplotlib.pyplot as plt\n",
    "plt.style.use('dark_background')\n",
    "from sklearn.model_selection import train_test_split\n",
    "from sklearn.preprocessing import OneHotEncoder "
   ]
  },
  {
   "cell_type": "markdown",
   "metadata": {
    "papermill": {
     "duration": 0.013964,
     "end_time": "2021-01-13T19:04:10.387998",
     "exception": false,
     "start_time": "2021-01-13T19:04:10.374034",
     "status": "completed"
    },
    "tags": []
   },
   "source": [
    "# One Hot Encoding the Target Classes"
   ]
  },
  {
   "cell_type": "code",
   "execution_count": 2,
   "metadata": {
    "execution": {
     "iopub.execute_input": "2021-01-13T19:04:10.426343Z",
     "iopub.status.busy": "2021-01-13T19:04:10.425663Z",
     "iopub.status.idle": "2021-01-13T19:04:10.432273Z",
     "shell.execute_reply": "2021-01-13T19:04:10.431739Z"
    },
    "papermill": {
     "duration": 0.030157,
     "end_time": "2021-01-13T19:04:10.432405",
     "exception": false,
     "start_time": "2021-01-13T19:04:10.402248",
     "status": "completed"
    },
    "tags": []
   },
   "outputs": [
    {
     "data": {
      "text/plain": [
       "OneHotEncoder()"
      ]
     },
     "execution_count": 2,
     "metadata": {},
     "output_type": "execute_result"
    }
   ],
   "source": [
    "encoder = OneHotEncoder()\n",
    "encoder.fit([[0], [1]]) \n",
    "\n",
    "# 0 - Tumor\n",
    "# 1 - Normal"
   ]
  },
  {
   "cell_type": "markdown",
   "metadata": {
    "papermill": {
     "duration": 0.014519,
     "end_time": "2021-01-13T19:04:10.462278",
     "exception": false,
     "start_time": "2021-01-13T19:04:10.447759",
     "status": "completed"
    },
    "tags": []
   },
   "source": [
    "# Creating 3 Important Lists --\n",
    "1. data list for storing image data in numpy array form\n",
    "2. paths list for storing paths of all images\n",
    "3. result list for storing one hot encoded form of target class whether normal or tumor"
   ]
  },
  {
   "cell_type": "code",
   "execution_count": 3,
   "metadata": {
    "execution": {
     "iopub.execute_input": "2021-01-13T19:04:10.501611Z",
     "iopub.status.busy": "2021-01-13T19:04:10.500916Z",
     "iopub.status.idle": "2021-01-13T19:04:11.944664Z",
     "shell.execute_reply": "2021-01-13T19:04:11.942997Z"
    },
    "papermill": {
     "duration": 1.467737,
     "end_time": "2021-01-13T19:04:11.944810",
     "exception": false,
     "start_time": "2021-01-13T19:04:10.477073",
     "status": "completed"
    },
    "tags": []
   },
   "outputs": [],
   "source": [
    "# This cell updates result list for images with tumor\n",
    "\n",
    "data = []\n",
    "paths = []\n",
    "result = []\n",
    "\n",
    "for r, d, f in os.walk(r'../input/brain-mri-images-for-brain-tumor-detection/yes'):\n",
    "    for file in f:\n",
    "        if '.jpg' in file:\n",
    "            paths.append(os.path.join(r, file))\n",
    "\n",
    "for path in paths:\n",
    "    img = Image.open(path)\n",
    "    img = img.resize((128,128))\n",
    "    img = np.array(img)\n",
    "    if(img.shape == (128,128,3)):\n",
    "        data.append(np.array(img))\n",
    "        result.append(encoder.transform([[0]]).toarray())"
   ]
  },
  {
   "cell_type": "code",
   "execution_count": 4,
   "metadata": {
    "execution": {
     "iopub.execute_input": "2021-01-13T19:04:11.985224Z",
     "iopub.status.busy": "2021-01-13T19:04:11.984515Z",
     "iopub.status.idle": "2021-01-13T19:04:13.038027Z",
     "shell.execute_reply": "2021-01-13T19:04:13.037399Z"
    },
    "papermill": {
     "duration": 1.078081,
     "end_time": "2021-01-13T19:04:13.038146",
     "exception": false,
     "start_time": "2021-01-13T19:04:11.960065",
     "status": "completed"
    },
    "tags": []
   },
   "outputs": [],
   "source": [
    "# This cell updates result list for images without tumor\n",
    "\n",
    "paths = []\n",
    "for r, d, f in os.walk(r\"../input/brain-mri-images-for-brain-tumor-detection/no\"):\n",
    "    for file in f:\n",
    "        if '.jpg' in file:\n",
    "            paths.append(os.path.join(r, file))\n",
    "\n",
    "for path in paths:\n",
    "    img = Image.open(path)\n",
    "    img = img.resize((128,128))\n",
    "    img = np.array(img)\n",
    "    if(img.shape == (128,128,3)):\n",
    "        data.append(np.array(img))\n",
    "        result.append(encoder.transform([[1]]).toarray())"
   ]
  },
  {
   "cell_type": "code",
   "execution_count": 5,
   "metadata": {
    "execution": {
     "iopub.execute_input": "2021-01-13T19:04:13.073556Z",
     "iopub.status.busy": "2021-01-13T19:04:13.072843Z",
     "iopub.status.idle": "2021-01-13T19:04:13.086117Z",
     "shell.execute_reply": "2021-01-13T19:04:13.085426Z"
    },
    "papermill": {
     "duration": 0.031647,
     "end_time": "2021-01-13T19:04:13.086256",
     "exception": false,
     "start_time": "2021-01-13T19:04:13.054609",
     "status": "completed"
    },
    "tags": []
   },
   "outputs": [
    {
     "data": {
      "text/plain": [
       "(139, 128, 128, 3)"
      ]
     },
     "execution_count": 5,
     "metadata": {},
     "output_type": "execute_result"
    }
   ],
   "source": [
    "data = np.array(data)\n",
    "data.shape"
   ]
  },
  {
   "cell_type": "code",
   "execution_count": 6,
   "metadata": {
    "execution": {
     "iopub.execute_input": "2021-01-13T19:04:13.123027Z",
     "iopub.status.busy": "2021-01-13T19:04:13.122015Z",
     "iopub.status.idle": "2021-01-13T19:04:13.126144Z",
     "shell.execute_reply": "2021-01-13T19:04:13.126733Z"
    },
    "papermill": {
     "duration": 0.025052,
     "end_time": "2021-01-13T19:04:13.126878",
     "exception": false,
     "start_time": "2021-01-13T19:04:13.101826",
     "status": "completed"
    },
    "tags": []
   },
   "outputs": [],
   "source": [
    "result = np.array(result)\n",
    "result = result.reshape(139,2)"
   ]
  },
  {
   "cell_type": "markdown",
   "metadata": {
    "papermill": {
     "duration": 0.015536,
     "end_time": "2021-01-13T19:04:13.158356",
     "exception": false,
     "start_time": "2021-01-13T19:04:13.142820",
     "status": "completed"
    },
    "tags": []
   },
   "source": [
    "# Splitting the Data into Training & Testing"
   ]
  },
  {
   "cell_type": "code",
   "execution_count": 7,
   "metadata": {
    "execution": {
     "iopub.execute_input": "2021-01-13T19:04:13.196149Z",
     "iopub.status.busy": "2021-01-13T19:04:13.195442Z",
     "iopub.status.idle": "2021-01-13T19:04:13.200535Z",
     "shell.execute_reply": "2021-01-13T19:04:13.201076Z"
    },
    "papermill": {
     "duration": 0.027054,
     "end_time": "2021-01-13T19:04:13.201267",
     "exception": false,
     "start_time": "2021-01-13T19:04:13.174213",
     "status": "completed"
    },
    "tags": []
   },
   "outputs": [],
   "source": [
    "x_train,x_test,y_train,y_test = train_test_split(data, result, test_size=0.2, shuffle=True, random_state=0)"
   ]
  },
  {
   "cell_type": "markdown",
   "metadata": {
    "papermill": {
     "duration": 0.015584,
     "end_time": "2021-01-13T19:04:13.232970",
     "exception": false,
     "start_time": "2021-01-13T19:04:13.217386",
     "status": "completed"
    },
    "tags": []
   },
   "source": [
    "# Model Building"
   ]
  },
  {
   "cell_type": "markdown",
   "metadata": {
    "papermill": {
     "duration": 0.015538,
     "end_time": "2021-01-13T19:04:13.264319",
     "exception": false,
     "start_time": "2021-01-13T19:04:13.248781",
     "status": "completed"
    },
    "tags": []
   },
   "source": [
    "Batch normalization is a technique for training very deep neural networks that standardizes the inputs to a layer for each mini-batch. This has the effect of stabilizing the learning process and dramatically reducing the number of training epochs required to train deep networks."
   ]
  },
  {
   "cell_type": "code",
   "execution_count": 8,
   "metadata": {
    "execution": {
     "iopub.execute_input": "2021-01-13T19:04:13.299474Z",
     "iopub.status.busy": "2021-01-13T19:04:13.298760Z",
     "iopub.status.idle": "2021-01-13T19:04:13.898376Z",
     "shell.execute_reply": "2021-01-13T19:04:13.897760Z"
    },
    "papermill": {
     "duration": 0.618409,
     "end_time": "2021-01-13T19:04:13.898494",
     "exception": false,
     "start_time": "2021-01-13T19:04:13.280085",
     "status": "completed"
    },
    "tags": []
   },
   "outputs": [
    {
     "name": "stdout",
     "output_type": "stream",
     "text": [
      "Model: \"sequential\"\n",
      "_________________________________________________________________\n",
      "Layer (type)                 Output Shape              Param #   \n",
      "=================================================================\n",
      "conv2d (Conv2D)              (None, 128, 128, 32)      416       \n",
      "_________________________________________________________________\n",
      "conv2d_1 (Conv2D)            (None, 128, 128, 32)      4128      \n",
      "_________________________________________________________________\n",
      "batch_normalization (BatchNo (None, 128, 128, 32)      128       \n",
      "_________________________________________________________________\n",
      "max_pooling2d (MaxPooling2D) (None, 64, 64, 32)        0         \n",
      "_________________________________________________________________\n",
      "dropout (Dropout)            (None, 64, 64, 32)        0         \n",
      "_________________________________________________________________\n",
      "conv2d_2 (Conv2D)            (None, 64, 64, 64)        8256      \n",
      "_________________________________________________________________\n",
      "conv2d_3 (Conv2D)            (None, 64, 64, 64)        16448     \n",
      "_________________________________________________________________\n",
      "batch_normalization_1 (Batch (None, 64, 64, 64)        256       \n",
      "_________________________________________________________________\n",
      "max_pooling2d_1 (MaxPooling2 (None, 32, 32, 64)        0         \n",
      "_________________________________________________________________\n",
      "dropout_1 (Dropout)          (None, 32, 32, 64)        0         \n",
      "_________________________________________________________________\n",
      "flatten (Flatten)            (None, 65536)             0         \n",
      "_________________________________________________________________\n",
      "dense (Dense)                (None, 512)               33554944  \n",
      "_________________________________________________________________\n",
      "dropout_2 (Dropout)          (None, 512)               0         \n",
      "_________________________________________________________________\n",
      "dense_1 (Dense)              (None, 2)                 1026      \n",
      "=================================================================\n",
      "Total params: 33,585,602\n",
      "Trainable params: 33,585,410\n",
      "Non-trainable params: 192\n",
      "_________________________________________________________________\n",
      "None\n"
     ]
    }
   ],
   "source": [
    "model = Sequential()\n",
    "\n",
    "model.add(Conv2D(32, kernel_size=(2, 2), input_shape=(128, 128, 3), padding = 'Same'))\n",
    "model.add(Conv2D(32, kernel_size=(2, 2),  activation ='relu', padding = 'Same'))\n",
    "\n",
    "\n",
    "model.add(BatchNormalization())\n",
    "model.add(MaxPooling2D(pool_size=(2, 2)))\n",
    "model.add(Dropout(0.25))\n",
    "\n",
    "model.add(Conv2D(64, kernel_size = (2,2), activation ='relu', padding = 'Same'))\n",
    "model.add(Conv2D(64, kernel_size = (2,2), activation ='relu', padding = 'Same'))\n",
    "\n",
    "model.add(BatchNormalization())\n",
    "model.add(MaxPooling2D(pool_size=(2,2), strides=(2,2)))\n",
    "model.add(Dropout(0.25))\n",
    "\n",
    "model.add(Flatten())\n",
    "\n",
    "model.add(Dense(512, activation='relu'))\n",
    "model.add(Dropout(0.5))\n",
    "model.add(Dense(2, activation='softmax'))\n",
    "\n",
    "model.compile(loss = \"categorical_crossentropy\", optimizer='Adamax')\n",
    "print(model.summary())"
   ]
  },
  {
   "cell_type": "code",
   "execution_count": 9,
   "metadata": {
    "execution": {
     "iopub.execute_input": "2021-01-13T19:04:13.938797Z",
     "iopub.status.busy": "2021-01-13T19:04:13.938095Z",
     "iopub.status.idle": "2021-01-13T19:04:13.942425Z",
     "shell.execute_reply": "2021-01-13T19:04:13.941846Z"
    },
    "papermill": {
     "duration": 0.02587,
     "end_time": "2021-01-13T19:04:13.942537",
     "exception": false,
     "start_time": "2021-01-13T19:04:13.916667",
     "status": "completed"
    },
    "tags": []
   },
   "outputs": [
    {
     "data": {
      "text/plain": [
       "(111, 2)"
      ]
     },
     "execution_count": 9,
     "metadata": {},
     "output_type": "execute_result"
    }
   ],
   "source": [
    "y_train.shape"
   ]
  },
  {
   "cell_type": "code",
   "execution_count": 10,
   "metadata": {
    "execution": {
     "iopub.execute_input": "2021-01-13T19:04:13.983118Z",
     "iopub.status.busy": "2021-01-13T19:04:13.982398Z",
     "iopub.status.idle": "2021-01-13T19:06:37.972111Z",
     "shell.execute_reply": "2021-01-13T19:06:37.972721Z"
    },
    "papermill": {
     "duration": 144.013421,
     "end_time": "2021-01-13T19:06:37.972915",
     "exception": false,
     "start_time": "2021-01-13T19:04:13.959494",
     "status": "completed"
    },
    "tags": []
   },
   "outputs": [
    {
     "name": "stdout",
     "output_type": "stream",
     "text": [
      "Epoch 1/30\n",
      "3/3 [==============================] - 3s 1s/step - loss: 79.3326 - val_loss: 42.5277\n",
      "Epoch 2/30\n",
      "3/3 [==============================] - 7s 2s/step - loss: 17.7606 - val_loss: 70.0688\n",
      "Epoch 3/30\n",
      "3/3 [==============================] - 7s 2s/step - loss: 9.4687 - val_loss: 14.7581\n",
      "Epoch 4/30\n",
      "3/3 [==============================] - 3s 993ms/step - loss: 4.5975 - val_loss: 23.5701\n",
      "Epoch 5/30\n",
      "3/3 [==============================] - 3s 1s/step - loss: 3.9477 - val_loss: 16.4190\n",
      "Epoch 6/30\n",
      "3/3 [==============================] - 3s 933ms/step - loss: 1.3051 - val_loss: 4.8896\n",
      "Epoch 7/30\n",
      "3/3 [==============================] - 3s 932ms/step - loss: 1.0897 - val_loss: 1.0343\n",
      "Epoch 8/30\n",
      "3/3 [==============================] - 3s 954ms/step - loss: 0.8229 - val_loss: 0.9565\n",
      "Epoch 9/30\n",
      "3/3 [==============================] - 3s 924ms/step - loss: 0.8666 - val_loss: 2.8124\n",
      "Epoch 10/30\n",
      "3/3 [==============================] - 3s 956ms/step - loss: 0.6506 - val_loss: 4.4251\n",
      "Epoch 11/30\n",
      "3/3 [==============================] - 3s 922ms/step - loss: 0.1757 - val_loss: 4.8350\n",
      "Epoch 12/30\n",
      "3/3 [==============================] - 3s 1s/step - loss: 0.2227 - val_loss: 4.0335\n",
      "Epoch 13/30\n",
      "3/3 [==============================] - 3s 953ms/step - loss: 0.1199 - val_loss: 3.2715\n",
      "Epoch 14/30\n",
      "3/3 [==============================] - 3s 921ms/step - loss: 0.0681 - val_loss: 2.7098\n",
      "Epoch 15/30\n",
      "3/3 [==============================] - 3s 923ms/step - loss: 0.0685 - val_loss: 2.3377\n",
      "Epoch 16/30\n",
      "3/3 [==============================] - 3s 966ms/step - loss: 0.0570 - val_loss: 2.0321\n",
      "Epoch 17/30\n",
      "3/3 [==============================] - 3s 960ms/step - loss: 0.0945 - val_loss: 1.7880\n",
      "Epoch 18/30\n",
      "3/3 [==============================] - 3s 975ms/step - loss: 0.0337 - val_loss: 1.6038\n",
      "Epoch 19/30\n",
      "3/3 [==============================] - 3s 919ms/step - loss: 0.0818 - val_loss: 1.4881\n",
      "Epoch 20/30\n",
      "3/3 [==============================] - 3s 962ms/step - loss: 0.0600 - val_loss: 1.3945\n",
      "Epoch 21/30\n",
      "3/3 [==============================] - 3s 938ms/step - loss: 0.0184 - val_loss: 1.3546\n",
      "Epoch 22/30\n",
      "3/3 [==============================] - 3s 935ms/step - loss: 0.0137 - val_loss: 1.3589\n",
      "Epoch 23/30\n",
      "3/3 [==============================] - 3s 942ms/step - loss: 0.0241 - val_loss: 1.3308\n",
      "Epoch 24/30\n",
      "3/3 [==============================] - 3s 907ms/step - loss: 0.0117 - val_loss: 1.3155\n",
      "Epoch 25/30\n",
      "3/3 [==============================] - 3s 947ms/step - loss: 0.0809 - val_loss: 1.3080\n",
      "Epoch 26/30\n",
      "3/3 [==============================] - 3s 908ms/step - loss: 0.0297 - val_loss: 1.3482\n",
      "Epoch 27/30\n",
      "3/3 [==============================] - 3s 999ms/step - loss: 0.0259 - val_loss: 1.3704\n",
      "Epoch 28/30\n",
      "3/3 [==============================] - 3s 1s/step - loss: 0.0069 - val_loss: 1.3574\n",
      "Epoch 29/30\n",
      "3/3 [==============================] - 3s 939ms/step - loss: 0.0425 - val_loss: 1.3168\n",
      "Epoch 30/30\n",
      "3/3 [==============================] - 3s 952ms/step - loss: 0.0259 - val_loss: 1.2111\n"
     ]
    }
   ],
   "source": [
    "history = model.fit(x_train, y_train, epochs = 30, batch_size = 40, verbose = 1,validation_data = (x_test, y_test))"
   ]
  },
  {
   "cell_type": "markdown",
   "metadata": {
    "papermill": {
     "duration": 0.068349,
     "end_time": "2021-01-13T19:06:38.108121",
     "exception": false,
     "start_time": "2021-01-13T19:06:38.039772",
     "status": "completed"
    },
    "tags": []
   },
   "source": [
    "# Plotting Losses"
   ]
  },
  {
   "cell_type": "code",
   "execution_count": 11,
   "metadata": {
    "execution": {
     "iopub.execute_input": "2021-01-13T19:06:38.247633Z",
     "iopub.status.busy": "2021-01-13T19:06:38.246928Z",
     "iopub.status.idle": "2021-01-13T19:06:38.495973Z",
     "shell.execute_reply": "2021-01-13T19:06:38.495448Z"
    },
    "papermill": {
     "duration": 0.31992,
     "end_time": "2021-01-13T19:06:38.496105",
     "exception": false,
     "start_time": "2021-01-13T19:06:38.176185",
     "status": "completed"
    },
    "tags": []
   },
   "outputs": [
    {
     "data": {
      "image/png": "[encoded data removed]",
      "text/plain": [
       "<Figure size 432x288 with 1 Axes>"
      ]
     },
     "metadata": {},
     "output_type": "display_data"
    }
   ],
   "source": [
    "plt.plot(history.history['loss'])\n",
    "plt.plot(history.history['val_loss'])\n",
    "plt.title('Model Loss')\n",
    "plt.ylabel('Loss')\n",
    "plt.xlabel('Epoch')\n",
    "plt.legend(['Test', 'Validation'], loc='upper right')\n",
    "plt.show()"
   ]
  },
  {
   "cell_type": "markdown",
   "metadata": {
    "papermill": {
     "duration": 0.068951,
     "end_time": "2021-01-13T19:06:38.633552",
     "exception": false,
     "start_time": "2021-01-13T19:06:38.564601",
     "status": "completed"
    },
    "tags": []
   },
   "source": [
    "# Just Checking the Model"
   ]
  },
  {
   "cell_type": "code",
   "execution_count": 12,
   "metadata": {
    "execution": {
     "iopub.execute_input": "2021-01-13T19:06:38.778565Z",
     "iopub.status.busy": "2021-01-13T19:06:38.777465Z",
     "iopub.status.idle": "2021-01-13T19:06:38.789382Z",
     "shell.execute_reply": "2021-01-13T19:06:38.790323Z"
    },
    "papermill": {
     "duration": 0.087731,
     "end_time": "2021-01-13T19:06:38.790575",
     "exception": false,
     "start_time": "2021-01-13T19:06:38.702844",
     "status": "completed"
    },
    "tags": []
   },
   "outputs": [],
   "source": [
    "def names(number):\n",
    "    if number==0:\n",
    "        return 'Its a Tumor'\n",
    "    else:\n",
    "        return 'No, Its not a tumor'"
   ]
  },
  {
   "cell_type": "code",
   "execution_count": 13,
   "metadata": {
    "execution": {
     "iopub.execute_input": "2021-01-13T19:06:38.973252Z",
     "iopub.status.busy": "2021-01-13T19:06:38.972171Z",
     "iopub.status.idle": "2021-01-13T19:06:39.325364Z",
     "shell.execute_reply": "2021-01-13T19:06:39.325840Z"
    },
    "papermill": {
     "duration": 0.434388,
     "end_time": "2021-01-13T19:06:39.325993",
     "exception": false,
     "start_time": "2021-01-13T19:06:38.891605",
     "status": "completed"
    },
    "tags": []
   },
   "outputs": [
    {
     "name": "stdout",
     "output_type": "stream",
     "text": [
      "99.97681975364685% Confidence This Is No, Its not a tumor\n"
     ]
    },
    {
     "data": {
      "image/png": "[encoded data removed]",
      "text/plain": [
       "<Figure size 432x288 with 1 Axes>"
      ]
     },
     "metadata": {},
     "output_type": "display_data"
    }
   ],
   "source": [
    "from matplotlib.pyplot import imshow\n",
    "img = Image.open(r\"../input/brain-mri-images-for-brain-tumor-detection/no/N17.jpg\")\n",
    "x = np.array(img.resize((128,128)))\n",
    "x = x.reshape(1,128,128,3)\n",
    "res = model.predict_on_batch(x)\n",
    "classification = np.where(res == np.amax(res))[1][0]\n",
    "imshow(img)\n",
    "print(str(res[0][classification]*100) + '% Confidence This Is ' + names(classification))"
   ]
  },
  {
   "cell_type": "code",
   "execution_count": 14,
   "metadata": {
    "execution": {
     "iopub.execute_input": "2021-01-13T19:06:39.475664Z",
     "iopub.status.busy": "2021-01-13T19:06:39.474672Z",
     "iopub.status.idle": "2021-01-13T19:06:39.688377Z",
     "shell.execute_reply": "2021-01-13T19:06:39.688857Z"
    },
    "papermill": {
     "duration": 0.290742,
     "end_time": "2021-01-13T19:06:39.689010",
     "exception": false,
     "start_time": "2021-01-13T19:06:39.398268",
     "status": "completed"
    },
    "tags": []
   },
   "outputs": [
    {
     "name": "stdout",
     "output_type": "stream",
     "text": [
      "97.33012318611145% Confidence This Is A Its a Tumor\n"
     ]
    },
    {
     "data": {
      "image/png": "[encoded data removed]",
      "text/plain": [
       "<Figure size 432x288 with 1 Axes>"
      ]
     },
     "metadata": {},
     "output_type": "display_data"
    }
   ],
   "source": [
    "from matplotlib.pyplot import imshow\n",
    "img = Image.open(r\"../input/brain-mri-images-for-brain-tumor-detection/yes/Y3.jpg\")\n",
    "x = np.array(img.resize((128,128)))\n",
    "x = x.reshape(1,128,128,3)\n",
    "res = model.predict_on_batch(x)\n",
    "classification = np.where(res == np.amax(res))[1][0]\n",
    "imshow(img)\n",
    "print(str(res[0][classification]*100) + '% Confidence This Is A ' + names(classification))"
   ]
  },
  {
   "cell_type": "markdown",
   "metadata": {
    "papermill": {
     "duration": 0.074409,
     "end_time": "2021-01-13T19:06:39.836265",
     "exception": false,
     "start_time": "2021-01-13T19:06:39.761856",
     "status": "completed"
    },
    "tags": []
   },
   "source": [
    "# Thats It !!"
   ]
  }
 ],
 "metadata": {
  "kernelspec": {
   "display_name": "Python 3",
   "language": "python",
   "name": "python3"
  },
  "language_info": {
   "codemirror_mode": {
    "name": "ipython",
    "version": 3
   },
   "file_extension": ".py",
   "mimetype": "text/x-python",
   "name": "python",
   "nbconvert_exporter": "python",
   "pygments_lexer": "ipython3",
   "version": "3.7.6"
  },
  "papermill": {
   "duration": 163.388087,
   "end_time": "2021-01-13T19:06:40.018519",
   "environment_variables": {},
   "exception": null,
   "input_path": "__notebook__.ipynb",
   "output_path": "__notebook__.ipynb",
   "parameters": {},
   "start_time": "2021-01-13T19:03:56.630432",
   "version": "2.1.0"
  }
 },
 "nbformat": 4,
 "nbformat_minor": 4
}
